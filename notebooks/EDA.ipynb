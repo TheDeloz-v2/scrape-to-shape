{
 "cells": [
  {
   "cell_type": "code",
   "execution_count": 276,
   "id": "6761b1fa",
   "metadata": {},
   "outputs": [],
   "source": [
    "# Data Processing\n",
    "import re\n",
    "import datetime\n",
    "import pandas as pd\n",
    "import numpy as np\n",
    "import matplotlib.pyplot as plt\n",
    "import datetime\n",
    "import seaborn as sns\n",
    "\n",
    "# NLP\n",
    "from wordcloud import WordCloud\n",
    "\n",
    "import spacy\n",
    "nlp = spacy.load(\"es_core_news_sm\")\n",
    "\n",
    "# Others\n",
    "import warnings\n",
    "warnings.filterwarnings(action='ignore')"
   ]
  },
  {
   "cell_type": "markdown",
   "id": "979dc6ef",
   "metadata": {},
   "source": [
    "## Dataset"
   ]
  },
  {
   "cell_type": "code",
   "execution_count": 277,
   "id": "709a79e2",
   "metadata": {},
   "outputs": [],
   "source": [
    "df = pd.read_csv('../data/raw/google_maps_all_reviews.csv')"
   ]
  },
  {
   "cell_type": "code",
   "execution_count": 278,
   "id": "4ecef67b",
   "metadata": {},
   "outputs": [
    {
     "name": "stdout",
     "output_type": "stream",
     "text": [
      "Shape: (3476, 8)\n"
     ]
    }
   ],
   "source": [
    "print(\"Shape:\", df.shape)"
   ]
  },
  {
   "cell_type": "code",
   "execution_count": 279,
   "id": "15483fb7",
   "metadata": {},
   "outputs": [
    {
     "name": "stdout",
     "output_type": "stream",
     "text": [
      "<class 'pandas.core.frame.DataFrame'>\n",
      "RangeIndex: 3476 entries, 0 to 3475\n",
      "Data columns (total 8 columns):\n",
      " #   Column     Non-Null Count  Dtype  \n",
      "---  ------     --------------  -----  \n",
      " 0   place_id   3476 non-null   object \n",
      " 1   place_url  3476 non-null   object \n",
      " 2   review_id  3476 non-null   object \n",
      " 3   user_url   3476 non-null   object \n",
      " 4   username   0 non-null      float64\n",
      " 5   stars      3476 non-null   int64  \n",
      " 6   time       3474 non-null   object \n",
      " 7   text       3476 non-null   object \n",
      "dtypes: float64(1), int64(1), object(6)\n",
      "memory usage: 217.4+ KB\n"
     ]
    }
   ],
   "source": [
    "df.info()"
   ]
  },
  {
   "cell_type": "code",
   "execution_count": 280,
   "id": "a62737a3",
   "metadata": {},
   "outputs": [],
   "source": [
    "df.drop(columns=[\"place_url\", \"user_url\", \"username\", \"review_id\"], inplace=True)"
   ]
  },
  {
   "cell_type": "markdown",
   "id": "1aeb3864",
   "metadata": {},
   "source": [
    "Estas columnas contienen metadatos como URLs o identificadores que no son necesarios para el análisis textual. No se toman en cuenta para reducir el volumen de datos y proteger la privacidad de los usuarios. En este caso, el estudio no tiene el objetivo de encontrar patrones de publicaciones entre usarios ni la identificacion de bots, sin embargo, se puede considerar mantenerlas."
   ]
  },
  {
   "cell_type": "code",
   "execution_count": 281,
   "id": "3bcccd4f",
   "metadata": {},
   "outputs": [
    {
     "data": {
      "text/html": [
       "<div>\n",
       "<style scoped>\n",
       "    .dataframe tbody tr th:only-of-type {\n",
       "        vertical-align: middle;\n",
       "    }\n",
       "\n",
       "    .dataframe tbody tr th {\n",
       "        vertical-align: top;\n",
       "    }\n",
       "\n",
       "    .dataframe thead th {\n",
       "        text-align: right;\n",
       "    }\n",
       "</style>\n",
       "<table border=\"1\" class=\"dataframe\">\n",
       "  <thead>\n",
       "    <tr style=\"text-align: right;\">\n",
       "      <th></th>\n",
       "      <th>place_id</th>\n",
       "      <th>stars</th>\n",
       "      <th>time</th>\n",
       "      <th>text</th>\n",
       "    </tr>\n",
       "  </thead>\n",
       "  <tbody>\n",
       "    <tr>\n",
       "      <th>0</th>\n",
       "      <td>club_majadas</td>\n",
       "      <td>5</td>\n",
       "      <td>Hace 3 meses</td>\n",
       "      <td>Costo beneficio correcto. Limpio y comodo de u...</td>\n",
       "    </tr>\n",
       "    <tr>\n",
       "      <th>1</th>\n",
       "      <td>club_majadas</td>\n",
       "      <td>5</td>\n",
       "      <td>Hace 5 años</td>\n",
       "      <td>Buena atención del personal. Muy higiénico. Ri...</td>\n",
       "    </tr>\n",
       "    <tr>\n",
       "      <th>2</th>\n",
       "      <td>club_majadas</td>\n",
       "      <td>5</td>\n",
       "      <td>Hace un año</td>\n",
       "      <td>Me encanto el lugar super recomendado La amabi...</td>\n",
       "    </tr>\n",
       "    <tr>\n",
       "      <th>3</th>\n",
       "      <td>club_majadas</td>\n",
       "      <td>5</td>\n",
       "      <td>Hace 8 años</td>\n",
       "      <td>Un lugar para ejercitarse en el gimnasio, clas...</td>\n",
       "    </tr>\n",
       "    <tr>\n",
       "      <th>4</th>\n",
       "      <td>club_majadas</td>\n",
       "      <td>5</td>\n",
       "      <td>Hace 3 años</td>\n",
       "      <td>Un bello lugar para respirar aire puro, nadar,...</td>\n",
       "    </tr>\n",
       "    <tr>\n",
       "      <th>...</th>\n",
       "      <td>...</td>\n",
       "      <td>...</td>\n",
       "      <td>...</td>\n",
       "      <td>...</td>\n",
       "    </tr>\n",
       "    <tr>\n",
       "      <th>3471</th>\n",
       "      <td>club_guatemala</td>\n",
       "      <td>5</td>\n",
       "      <td>Hace 7 años</td>\n",
       "      <td>Jose Miguel Montes Local Guide · 26 opiniones ...</td>\n",
       "    </tr>\n",
       "    <tr>\n",
       "      <th>3472</th>\n",
       "      <td>club_guatemala</td>\n",
       "      <td>3</td>\n",
       "      <td>Hace 8 años</td>\n",
       "      <td>Sandra Carmina Ventura Roldan       Hace...</td>\n",
       "    </tr>\n",
       "    <tr>\n",
       "      <th>3473</th>\n",
       "      <td>club_guatemala</td>\n",
       "      <td>4</td>\n",
       "      <td>Hace 8 años</td>\n",
       "      <td>Giovanni Ramirez Garcia Local Guide · 78 opini...</td>\n",
       "    </tr>\n",
       "    <tr>\n",
       "      <th>3474</th>\n",
       "      <td>club_guatemala</td>\n",
       "      <td>4</td>\n",
       "      <td>Hace 8 años</td>\n",
       "      <td>Sarita Arana       Hace 8 años</td>\n",
       "    </tr>\n",
       "    <tr>\n",
       "      <th>3475</th>\n",
       "      <td>club_guatemala</td>\n",
       "      <td>2</td>\n",
       "      <td>Hace 8 años</td>\n",
       "      <td>Rodrigo Vizcaino Local Guide · 4 opiniones · 1...</td>\n",
       "    </tr>\n",
       "  </tbody>\n",
       "</table>\n",
       "<p>3476 rows × 4 columns</p>\n",
       "</div>"
      ],
      "text/plain": [
       "            place_id  stars          time  \\\n",
       "0       club_majadas      5  Hace 3 meses   \n",
       "1       club_majadas      5   Hace 5 años   \n",
       "2       club_majadas      5   Hace un año   \n",
       "3       club_majadas      5   Hace 8 años   \n",
       "4       club_majadas      5   Hace 3 años   \n",
       "...              ...    ...           ...   \n",
       "3471  club_guatemala      5   Hace 7 años   \n",
       "3472  club_guatemala      3   Hace 8 años   \n",
       "3473  club_guatemala      4   Hace 8 años   \n",
       "3474  club_guatemala      4   Hace 8 años   \n",
       "3475  club_guatemala      2   Hace 8 años   \n",
       "\n",
       "                                                   text  \n",
       "0     Costo beneficio correcto. Limpio y comodo de u...  \n",
       "1     Buena atención del personal. Muy higiénico. Ri...  \n",
       "2     Me encanto el lugar super recomendado La amabi...  \n",
       "3     Un lugar para ejercitarse en el gimnasio, clas...  \n",
       "4     Un bello lugar para respirar aire puro, nadar,...  \n",
       "...                                                 ...  \n",
       "3471  Jose Miguel Montes Local Guide · 26 opiniones ...  \n",
       "3472  Sandra Carmina Ventura Roldan       Hace...  \n",
       "3473  Giovanni Ramirez Garcia Local Guide · 78 opini...  \n",
       "3474               Sarita Arana       Hace 8 años  \n",
       "3475  Rodrigo Vizcaino Local Guide · 4 opiniones · 1...  \n",
       "\n",
       "[3476 rows x 4 columns]"
      ]
     },
     "execution_count": 281,
     "metadata": {},
     "output_type": "execute_result"
    }
   ],
   "source": [
    "df"
   ]
  },
  {
   "cell_type": "markdown",
   "id": "90959a60",
   "metadata": {},
   "source": [
    "## Filtrado"
   ]
  },
  {
   "cell_type": "code",
   "execution_count": 282,
   "id": "78012eae",
   "metadata": {},
   "outputs": [],
   "source": [
    "def normalize_text(text):\n",
    "    if not isinstance(text, str):\n",
    "        try:\n",
    "            import pandas as _pd\n",
    "            if _pd.isna(text):\n",
    "                text = ''\n",
    "            else:\n",
    "                text = str(text)\n",
    "        except Exception:\n",
    "            text = '' if text is None else str(text)\n",
    "\n",
    "    text = text.lower()                         # Convert to lowercase\n",
    "    text = re.sub(r'http\\S+', '', text)         # Remove URLs\n",
    "    text = re.sub(r'@\\w+', '', text)            # Remove mentions\n",
    "    text = re.sub(r'#\\w+', '', text)            # Remove hashtags\n",
    "    text = re.sub(r'\\s+', ' ', text).strip()    # Remove extra whitespace\n",
    "    \n",
    "    convert_dict = {'á': 'a', 'é': 'e', 'í': 'i', 'ó': 'o', 'ú': 'u', 'ü': 'u', 'ñ': 'ni'}\n",
    "    for accented_char, normal_char in convert_dict.items():\n",
    "        text = text.replace(accented_char, normal_char)\n",
    "\n",
    "    return text"
   ]
  },
  {
   "cell_type": "code",
   "execution_count": 283,
   "id": "446984fd",
   "metadata": {},
   "outputs": [],
   "source": [
    "df[\"clean_text\"] = df[\"text\"].apply(normalize_text)"
   ]
  },
  {
   "cell_type": "markdown",
   "id": "ff421059",
   "metadata": {},
   "source": [
    "La normalización del texto:\n",
    "- convertir a minúsculas\n",
    "- eliminar URLs\n",
    "- eliminar menciones\n",
    "- eliminar hashtags\n",
    "- eliminar espacios extra\n",
    "- convertir acentos\n",
    "\n",
    "Se hizo con el fin de reducir el ruido superficial y facilitar las tareas de tokenización, lematización y búsqueda. Sin embargo, se debe considerar que son reglas ad-hoc (como mapear \"ñ\" a \"ni\") lo que puede alterar palabras, nombres propios o borrar señales emocionales como emojis.\n",
    "\n",
    "Por lo mismo, se considera importante conservar una columna text con el texto original para trazabilidad."
   ]
  },
  {
   "cell_type": "code",
   "execution_count": 284,
   "id": "e340833c",
   "metadata": {},
   "outputs": [
    {
     "name": "stdout",
     "output_type": "stream",
     "text": [
      "Removing rows with '·' in text: 732\n",
      "New shape: (2744, 5)\n"
     ]
    }
   ],
   "source": [
    "check_1 = pd.DataFrame()\n",
    "\n",
    "check_1 = df[df['clean_text'].str.contains('·')]\n",
    "\n",
    "print(\"Removing rows with '·' in text:\", check_1.shape[0])\n",
    "df = df.drop(check_1.index)\n",
    "print(\"New shape:\", df.shape)"
   ]
  },
  {
   "cell_type": "code",
   "execution_count": 285,
   "id": "5dffc5dd",
   "metadata": {},
   "outputs": [
    {
     "name": "stdout",
     "output_type": "stream",
     "text": [
      "Number of rows with 'hace \\d+ anios': 515\n",
      "Number of rows with 'hace un anio': 32\n",
      "Number of rows with 'hace un mes': 2\n",
      "Number of rows with 'hace \\d+ meses': 13\n",
      "\n",
      "Removing 562 rows from df\n",
      "New shape: (2182, 5)\n"
     ]
    }
   ],
   "source": [
    "check_2 = pd.DataFrame()\n",
    "\n",
    "re_expression = [r'hace \\d+ anios', r'hace un anio', r'hace un mes', r'hace \\d+ meses']\n",
    "\n",
    "for expr in re_expression:\n",
    "    temp = df[df['clean_text'].str.contains(expr)]\n",
    "    check_2 = pd.concat([check_2, temp])\n",
    "    print(f\"Number of rows with '{expr}':\", temp.shape[0])\n",
    "\n",
    "print(\"\\nRemoving\", check_2.shape[0], \"rows from df\")\n",
    "df = df.drop(index=check_2.index)\n",
    "print(\"New shape:\", df.shape)"
   ]
  },
  {
   "cell_type": "markdown",
   "id": "669d8c4c",
   "metadata": {},
   "source": [
    "Se identificaron dos casos en especifico, por el formato malformateado que contienen ciertas reviews técnicamente antiguas que no tienen un valor de \"text\":\n",
    "- Textos que contienen el símbolo ‘·’\n",
    "- Frases como \"hace 2 años\", \"hace un mes\" \n",
    "\n",
    "Los valores de texto que contengan alguno de esos casos, se filtran. Sin embargo, para esto, se toman en cuenta dos supuestos:\n",
    "- El símbolo ‘·’ no aparece legítimamente en reseñas ni en listas copiadas. \n",
    "- Las expresiones \"hace 2 años\", \"hace un mes\" no aparecen legítimamente en reseñas, se entiende que se realizan al corto plazo de haber visitado el lugar en cuestión."
   ]
  },
  {
   "cell_type": "code",
   "execution_count": 286,
   "id": "eb7da3a0",
   "metadata": {},
   "outputs": [
    {
     "data": {
      "text/html": [
       "<div>\n",
       "<style scoped>\n",
       "    .dataframe tbody tr th:only-of-type {\n",
       "        vertical-align: middle;\n",
       "    }\n",
       "\n",
       "    .dataframe tbody tr th {\n",
       "        vertical-align: top;\n",
       "    }\n",
       "\n",
       "    .dataframe thead th {\n",
       "        text-align: right;\n",
       "    }\n",
       "</style>\n",
       "<table border=\"1\" class=\"dataframe\">\n",
       "  <thead>\n",
       "    <tr style=\"text-align: right;\">\n",
       "      <th></th>\n",
       "      <th>place_id</th>\n",
       "      <th>stars</th>\n",
       "      <th>time</th>\n",
       "      <th>text</th>\n",
       "      <th>clean_text</th>\n",
       "    </tr>\n",
       "  </thead>\n",
       "  <tbody>\n",
       "    <tr>\n",
       "      <th>0</th>\n",
       "      <td>club_majadas</td>\n",
       "      <td>5</td>\n",
       "      <td>Hace 3 meses</td>\n",
       "      <td>Costo beneficio correcto. Limpio y comodo de u...</td>\n",
       "      <td>costo beneficio correcto. limpio y comodo de u...</td>\n",
       "    </tr>\n",
       "    <tr>\n",
       "      <th>1</th>\n",
       "      <td>club_majadas</td>\n",
       "      <td>5</td>\n",
       "      <td>Hace 5 años</td>\n",
       "      <td>Buena atención del personal. Muy higiénico. Ri...</td>\n",
       "      <td>buena atencion del personal. muy higienico. ri...</td>\n",
       "    </tr>\n",
       "    <tr>\n",
       "      <th>2</th>\n",
       "      <td>club_majadas</td>\n",
       "      <td>5</td>\n",
       "      <td>Hace un año</td>\n",
       "      <td>Me encanto el lugar super recomendado La amabi...</td>\n",
       "      <td>me encanto el lugar super recomendado la amabi...</td>\n",
       "    </tr>\n",
       "    <tr>\n",
       "      <th>3</th>\n",
       "      <td>club_majadas</td>\n",
       "      <td>5</td>\n",
       "      <td>Hace 8 años</td>\n",
       "      <td>Un lugar para ejercitarse en el gimnasio, clas...</td>\n",
       "      <td>un lugar para ejercitarse en el gimnasio, clas...</td>\n",
       "    </tr>\n",
       "    <tr>\n",
       "      <th>4</th>\n",
       "      <td>club_majadas</td>\n",
       "      <td>5</td>\n",
       "      <td>Hace 3 años</td>\n",
       "      <td>Un bello lugar para respirar aire puro, nadar,...</td>\n",
       "      <td>un bello lugar para respirar aire puro, nadar,...</td>\n",
       "    </tr>\n",
       "    <tr>\n",
       "      <th>...</th>\n",
       "      <td>...</td>\n",
       "      <td>...</td>\n",
       "      <td>...</td>\n",
       "      <td>...</td>\n",
       "      <td>...</td>\n",
       "    </tr>\n",
       "    <tr>\n",
       "      <th>3299</th>\n",
       "      <td>club_guatemala</td>\n",
       "      <td>5</td>\n",
       "      <td>Hace un año</td>\n",
       "      <td>Excelente</td>\n",
       "      <td>excelente</td>\n",
       "    </tr>\n",
       "    <tr>\n",
       "      <th>3303</th>\n",
       "      <td>club_guatemala</td>\n",
       "      <td>5</td>\n",
       "      <td>Hace 2 años</td>\n",
       "      <td>bantab</td>\n",
       "      <td>bantab</td>\n",
       "    </tr>\n",
       "    <tr>\n",
       "      <th>3305</th>\n",
       "      <td>club_guatemala</td>\n",
       "      <td>5</td>\n",
       "      <td>Hace 5 años</td>\n",
       "      <td>Desde</td>\n",
       "      <td>desde</td>\n",
       "    </tr>\n",
       "    <tr>\n",
       "      <th>3306</th>\n",
       "      <td>club_guatemala</td>\n",
       "      <td>5</td>\n",
       "      <td>Hace 7 años</td>\n",
       "      <td>Cicatrización</td>\n",
       "      <td>cicatrizacion</td>\n",
       "    </tr>\n",
       "    <tr>\n",
       "      <th>3307</th>\n",
       "      <td>club_guatemala</td>\n",
       "      <td>5</td>\n",
       "      <td>Hace 2 años</td>\n",
       "      <td>Súper</td>\n",
       "      <td>super</td>\n",
       "    </tr>\n",
       "  </tbody>\n",
       "</table>\n",
       "<p>2182 rows × 5 columns</p>\n",
       "</div>"
      ],
      "text/plain": [
       "            place_id  stars          time  \\\n",
       "0       club_majadas      5  Hace 3 meses   \n",
       "1       club_majadas      5   Hace 5 años   \n",
       "2       club_majadas      5   Hace un año   \n",
       "3       club_majadas      5   Hace 8 años   \n",
       "4       club_majadas      5   Hace 3 años   \n",
       "...              ...    ...           ...   \n",
       "3299  club_guatemala      5   Hace un año   \n",
       "3303  club_guatemala      5   Hace 2 años   \n",
       "3305  club_guatemala      5   Hace 5 años   \n",
       "3306  club_guatemala      5   Hace 7 años   \n",
       "3307  club_guatemala      5   Hace 2 años   \n",
       "\n",
       "                                                   text  \\\n",
       "0     Costo beneficio correcto. Limpio y comodo de u...   \n",
       "1     Buena atención del personal. Muy higiénico. Ri...   \n",
       "2     Me encanto el lugar super recomendado La amabi...   \n",
       "3     Un lugar para ejercitarse en el gimnasio, clas...   \n",
       "4     Un bello lugar para respirar aire puro, nadar,...   \n",
       "...                                                 ...   \n",
       "3299                                          Excelente   \n",
       "3303                                             bantab   \n",
       "3305                                              Desde   \n",
       "3306                                      Cicatrización   \n",
       "3307                                              Súper   \n",
       "\n",
       "                                             clean_text  \n",
       "0     costo beneficio correcto. limpio y comodo de u...  \n",
       "1     buena atencion del personal. muy higienico. ri...  \n",
       "2     me encanto el lugar super recomendado la amabi...  \n",
       "3     un lugar para ejercitarse en el gimnasio, clas...  \n",
       "4     un bello lugar para respirar aire puro, nadar,...  \n",
       "...                                                 ...  \n",
       "3299                                          excelente  \n",
       "3303                                             bantab  \n",
       "3305                                              desde  \n",
       "3306                                      cicatrizacion  \n",
       "3307                                              super  \n",
       "\n",
       "[2182 rows x 5 columns]"
      ]
     },
     "execution_count": 286,
     "metadata": {},
     "output_type": "execute_result"
    }
   ],
   "source": [
    "df"
   ]
  },
  {
   "cell_type": "markdown",
   "id": "ff65691d",
   "metadata": {},
   "source": [
    "## Pre Procesamiento"
   ]
  },
  {
   "cell_type": "markdown",
   "id": "4474c2de",
   "metadata": {},
   "source": [
    "### Valor \"text\""
   ]
  },
  {
   "cell_type": "code",
   "execution_count": 287,
   "id": "cdaa8e05",
   "metadata": {},
   "outputs": [],
   "source": [
    "def split_into_sentences(text):\n",
    "    sentences = re.split(r'[.!?]+', text)\n",
    "    \n",
    "    cleaned_sentences = []\n",
    "    for sentence in sentences:\n",
    "        sentence = sentence.strip()\n",
    "        sentence = re.sub(r'[^a-zA-Z0-9áéíóúüñÁÉÍÓÚÜÑ\\s]', '', sentence)\n",
    "        if sentence and sentence != '':\n",
    "            cleaned_sentences.append(sentence)\n",
    "    \n",
    "    return cleaned_sentences"
   ]
  },
  {
   "cell_type": "code",
   "execution_count": 288,
   "id": "d55991c6",
   "metadata": {},
   "outputs": [],
   "source": [
    "df['sentences'] = df['clean_text'].apply(split_into_sentences)"
   ]
  },
  {
   "cell_type": "markdown",
   "id": "1eceffdd",
   "metadata": {},
   "source": [
    "Separar el texto en oraciones facilita tareas de lematización, extracción de entidades y análisis temático. Quitar caracteres no alfanuméricos puede reducir ruido, pero se acepta el riesgo de que se pueden llegar a eliminar emojis, puntuación enfática o símbolos que transmiten emociones."
   ]
  },
  {
   "cell_type": "code",
   "execution_count": 289,
   "id": "b783c70b",
   "metadata": {},
   "outputs": [
    {
     "data": {
      "text/html": [
       "<div>\n",
       "<style scoped>\n",
       "    .dataframe tbody tr th:only-of-type {\n",
       "        vertical-align: middle;\n",
       "    }\n",
       "\n",
       "    .dataframe tbody tr th {\n",
       "        vertical-align: top;\n",
       "    }\n",
       "\n",
       "    .dataframe thead th {\n",
       "        text-align: right;\n",
       "    }\n",
       "</style>\n",
       "<table border=\"1\" class=\"dataframe\">\n",
       "  <thead>\n",
       "    <tr style=\"text-align: right;\">\n",
       "      <th></th>\n",
       "      <th>place_id</th>\n",
       "      <th>stars</th>\n",
       "      <th>time</th>\n",
       "      <th>text</th>\n",
       "      <th>clean_text</th>\n",
       "      <th>sentences</th>\n",
       "    </tr>\n",
       "  </thead>\n",
       "  <tbody>\n",
       "    <tr>\n",
       "      <th>0</th>\n",
       "      <td>club_majadas</td>\n",
       "      <td>5</td>\n",
       "      <td>Hace 3 meses</td>\n",
       "      <td>Costo beneficio correcto. Limpio y comodo de u...</td>\n",
       "      <td>costo beneficio correcto. limpio y comodo de u...</td>\n",
       "      <td>[costo beneficio correcto, limpio y comodo de ...</td>\n",
       "    </tr>\n",
       "    <tr>\n",
       "      <th>1</th>\n",
       "      <td>club_majadas</td>\n",
       "      <td>5</td>\n",
       "      <td>Hace 5 años</td>\n",
       "      <td>Buena atención del personal. Muy higiénico. Ri...</td>\n",
       "      <td>buena atencion del personal. muy higienico. ri...</td>\n",
       "      <td>[buena atencion del personal, muy higienico, r...</td>\n",
       "    </tr>\n",
       "    <tr>\n",
       "      <th>2</th>\n",
       "      <td>club_majadas</td>\n",
       "      <td>5</td>\n",
       "      <td>Hace un año</td>\n",
       "      <td>Me encanto el lugar super recomendado La amabi...</td>\n",
       "      <td>me encanto el lugar super recomendado la amabi...</td>\n",
       "      <td>[me encanto el lugar super recomendado la amab...</td>\n",
       "    </tr>\n",
       "    <tr>\n",
       "      <th>3</th>\n",
       "      <td>club_majadas</td>\n",
       "      <td>5</td>\n",
       "      <td>Hace 8 años</td>\n",
       "      <td>Un lugar para ejercitarse en el gimnasio, clas...</td>\n",
       "      <td>un lugar para ejercitarse en el gimnasio, clas...</td>\n",
       "      <td>[un lugar para ejercitarse en el gimnasio clas...</td>\n",
       "    </tr>\n",
       "    <tr>\n",
       "      <th>4</th>\n",
       "      <td>club_majadas</td>\n",
       "      <td>5</td>\n",
       "      <td>Hace 3 años</td>\n",
       "      <td>Un bello lugar para respirar aire puro, nadar,...</td>\n",
       "      <td>un bello lugar para respirar aire puro, nadar,...</td>\n",
       "      <td>[un bello lugar para respirar aire puro nadar ...</td>\n",
       "    </tr>\n",
       "    <tr>\n",
       "      <th>...</th>\n",
       "      <td>...</td>\n",
       "      <td>...</td>\n",
       "      <td>...</td>\n",
       "      <td>...</td>\n",
       "      <td>...</td>\n",
       "      <td>...</td>\n",
       "    </tr>\n",
       "    <tr>\n",
       "      <th>3299</th>\n",
       "      <td>club_guatemala</td>\n",
       "      <td>5</td>\n",
       "      <td>Hace un año</td>\n",
       "      <td>Excelente</td>\n",
       "      <td>excelente</td>\n",
       "      <td>[excelente]</td>\n",
       "    </tr>\n",
       "    <tr>\n",
       "      <th>3303</th>\n",
       "      <td>club_guatemala</td>\n",
       "      <td>5</td>\n",
       "      <td>Hace 2 años</td>\n",
       "      <td>bantab</td>\n",
       "      <td>bantab</td>\n",
       "      <td>[bantab]</td>\n",
       "    </tr>\n",
       "    <tr>\n",
       "      <th>3305</th>\n",
       "      <td>club_guatemala</td>\n",
       "      <td>5</td>\n",
       "      <td>Hace 5 años</td>\n",
       "      <td>Desde</td>\n",
       "      <td>desde</td>\n",
       "      <td>[desde]</td>\n",
       "    </tr>\n",
       "    <tr>\n",
       "      <th>3306</th>\n",
       "      <td>club_guatemala</td>\n",
       "      <td>5</td>\n",
       "      <td>Hace 7 años</td>\n",
       "      <td>Cicatrización</td>\n",
       "      <td>cicatrizacion</td>\n",
       "      <td>[cicatrizacion]</td>\n",
       "    </tr>\n",
       "    <tr>\n",
       "      <th>3307</th>\n",
       "      <td>club_guatemala</td>\n",
       "      <td>5</td>\n",
       "      <td>Hace 2 años</td>\n",
       "      <td>Súper</td>\n",
       "      <td>super</td>\n",
       "      <td>[super]</td>\n",
       "    </tr>\n",
       "  </tbody>\n",
       "</table>\n",
       "<p>2182 rows × 6 columns</p>\n",
       "</div>"
      ],
      "text/plain": [
       "            place_id  stars          time  \\\n",
       "0       club_majadas      5  Hace 3 meses   \n",
       "1       club_majadas      5   Hace 5 años   \n",
       "2       club_majadas      5   Hace un año   \n",
       "3       club_majadas      5   Hace 8 años   \n",
       "4       club_majadas      5   Hace 3 años   \n",
       "...              ...    ...           ...   \n",
       "3299  club_guatemala      5   Hace un año   \n",
       "3303  club_guatemala      5   Hace 2 años   \n",
       "3305  club_guatemala      5   Hace 5 años   \n",
       "3306  club_guatemala      5   Hace 7 años   \n",
       "3307  club_guatemala      5   Hace 2 años   \n",
       "\n",
       "                                                   text  \\\n",
       "0     Costo beneficio correcto. Limpio y comodo de u...   \n",
       "1     Buena atención del personal. Muy higiénico. Ri...   \n",
       "2     Me encanto el lugar super recomendado La amabi...   \n",
       "3     Un lugar para ejercitarse en el gimnasio, clas...   \n",
       "4     Un bello lugar para respirar aire puro, nadar,...   \n",
       "...                                                 ...   \n",
       "3299                                          Excelente   \n",
       "3303                                             bantab   \n",
       "3305                                              Desde   \n",
       "3306                                      Cicatrización   \n",
       "3307                                              Súper   \n",
       "\n",
       "                                             clean_text  \\\n",
       "0     costo beneficio correcto. limpio y comodo de u...   \n",
       "1     buena atencion del personal. muy higienico. ri...   \n",
       "2     me encanto el lugar super recomendado la amabi...   \n",
       "3     un lugar para ejercitarse en el gimnasio, clas...   \n",
       "4     un bello lugar para respirar aire puro, nadar,...   \n",
       "...                                                 ...   \n",
       "3299                                          excelente   \n",
       "3303                                             bantab   \n",
       "3305                                              desde   \n",
       "3306                                      cicatrizacion   \n",
       "3307                                              super   \n",
       "\n",
       "                                              sentences  \n",
       "0     [costo beneficio correcto, limpio y comodo de ...  \n",
       "1     [buena atencion del personal, muy higienico, r...  \n",
       "2     [me encanto el lugar super recomendado la amab...  \n",
       "3     [un lugar para ejercitarse en el gimnasio clas...  \n",
       "4     [un bello lugar para respirar aire puro nadar ...  \n",
       "...                                                 ...  \n",
       "3299                                        [excelente]  \n",
       "3303                                           [bantab]  \n",
       "3305                                            [desde]  \n",
       "3306                                    [cicatrizacion]  \n",
       "3307                                            [super]  \n",
       "\n",
       "[2182 rows x 6 columns]"
      ]
     },
     "execution_count": 289,
     "metadata": {},
     "output_type": "execute_result"
    }
   ],
   "source": [
    "df"
   ]
  },
  {
   "cell_type": "code",
   "execution_count": 290,
   "id": "494b448e",
   "metadata": {},
   "outputs": [],
   "source": [
    "def lemmatize_spacy(sentences):\n",
    "    if isinstance(sentences, str):\n",
    "        sentences = [sentences]\n",
    "    if not isinstance(sentences, (list, tuple)):\n",
    "        return []\n",
    "\n",
    "    out = []\n",
    "    for s in sentences:\n",
    "        doc = nlp(s)\n",
    "        lem = \" \".join([token.lemma_ for token in doc if token.is_alpha])\n",
    "        out.append(lem)\n",
    "    return out"
   ]
  },
  {
   "cell_type": "code",
   "execution_count": 291,
   "id": "a9554687",
   "metadata": {},
   "outputs": [],
   "source": [
    "df['lemm_sentences'] = df['sentences'].apply(lemmatize_spacy)"
   ]
  },
  {
   "cell_type": "markdown",
   "id": "222a0e99",
   "metadata": {},
   "source": [
    "Se aplica lematización para agrupar formas flexionadas de una palabra, lo que reduce la dimensionalidad del vocabulario y mejora la generalización en modelos. Sin embargo, los lematizadores pueden fallar en textos con jerga, errores ortográficos o dialectos, especialmente si el modelo no está bien ajustado al corpus."
   ]
  },
  {
   "cell_type": "code",
   "execution_count": 292,
   "id": "dcdc3a72",
   "metadata": {},
   "outputs": [
    {
     "data": {
      "text/html": [
       "<div>\n",
       "<style scoped>\n",
       "    .dataframe tbody tr th:only-of-type {\n",
       "        vertical-align: middle;\n",
       "    }\n",
       "\n",
       "    .dataframe tbody tr th {\n",
       "        vertical-align: top;\n",
       "    }\n",
       "\n",
       "    .dataframe thead th {\n",
       "        text-align: right;\n",
       "    }\n",
       "</style>\n",
       "<table border=\"1\" class=\"dataframe\">\n",
       "  <thead>\n",
       "    <tr style=\"text-align: right;\">\n",
       "      <th></th>\n",
       "      <th>place_id</th>\n",
       "      <th>stars</th>\n",
       "      <th>time</th>\n",
       "      <th>text</th>\n",
       "      <th>clean_text</th>\n",
       "      <th>sentences</th>\n",
       "      <th>lemm_sentences</th>\n",
       "    </tr>\n",
       "  </thead>\n",
       "  <tbody>\n",
       "  </tbody>\n",
       "</table>\n",
       "</div>"
      ],
      "text/plain": [
       "Empty DataFrame\n",
       "Columns: [place_id, stars, time, text, clean_text, sentences, lemm_sentences]\n",
       "Index: []"
      ]
     },
     "execution_count": 292,
     "metadata": {},
     "output_type": "execute_result"
    }
   ],
   "source": [
    "nan_rows = df[df['lemm_sentences'].isna()]\n",
    "nan_rows"
   ]
  },
  {
   "cell_type": "code",
   "execution_count": 293,
   "id": "a25557dc",
   "metadata": {},
   "outputs": [
    {
     "name": "stdout",
     "output_type": "stream",
     "text": [
      "New shape: (2182, 7)\n"
     ]
    }
   ],
   "source": [
    "df = df.dropna(subset=['lemm_sentences'])\n",
    "print(\"New shape:\", df.shape)"
   ]
  },
  {
   "cell_type": "markdown",
   "id": "b73e00f9",
   "metadata": {},
   "source": [
    "### Valor \"time\""
   ]
  },
  {
   "cell_type": "code",
   "execution_count": 294,
   "id": "427356c8",
   "metadata": {},
   "outputs": [],
   "source": [
    "current_year = datetime.datetime.now().year"
   ]
  },
  {
   "cell_type": "code",
   "execution_count": 295,
   "id": "eb892632",
   "metadata": {},
   "outputs": [],
   "source": [
    "def extract_year(time_str):\n",
    "    if isinstance(time_str, str):\n",
    "        time_str = time_str.lower().strip()\n",
    "        time_str = time_str.replace(\"editado\", \"\").strip()\n",
    "        if \"hace\" in time_str:\n",
    "            parts = time_str.split()\n",
    "            if len(parts) == 3:\n",
    "                try:\n",
    "                    number = int(parts[1]) if parts[1].isdigit() else 1\n",
    "                    unit = parts[2]\n",
    "                    if \"anio\" in unit:\n",
    "                        return current_year - number\n",
    "                    elif \"mes\" in unit:\n",
    "                        months_ago = number\n",
    "                        year_adjustment = months_ago // 12\n",
    "                        return current_year - year_adjustment\n",
    "                    elif \"semanas\" in unit or \"semana\" in unit:\n",
    "                        return current_year\n",
    "                    elif \"dias\" in unit or \"dia\" in unit:\n",
    "                        return current_year\n",
    "                except ValueError:\n",
    "                    return None\n",
    "    return None"
   ]
  },
  {
   "cell_type": "code",
   "execution_count": 296,
   "id": "48acba9d",
   "metadata": {},
   "outputs": [],
   "source": [
    "df[\"time\"] = df[\"time\"].apply(normalize_text)"
   ]
  },
  {
   "cell_type": "code",
   "execution_count": 297,
   "id": "52cbf59b",
   "metadata": {},
   "outputs": [],
   "source": [
    "df['real_time'] = df['time'].apply(extract_year)"
   ]
  },
  {
   "cell_type": "markdown",
   "id": "5ad4db92",
   "metadata": {},
   "source": [
    "La normalización y extracción del tiempo permite homogenizar formatos temporales, como eliminar la palabra \"editado\", y convertir frases relativas (\"hace 2 años\") en valores numéricos útiles para análisis temporal. Sin embargo, el método extract_year que asume patrones como \"hace X\" puede no cubrir formatos absolutos (fechas exactas) ni variaciones lingüísticas. "
   ]
  },
  {
   "cell_type": "code",
   "execution_count": 298,
   "id": "c259dc50",
   "metadata": {},
   "outputs": [
    {
     "data": {
      "text/html": [
       "<div>\n",
       "<style scoped>\n",
       "    .dataframe tbody tr th:only-of-type {\n",
       "        vertical-align: middle;\n",
       "    }\n",
       "\n",
       "    .dataframe tbody tr th {\n",
       "        vertical-align: top;\n",
       "    }\n",
       "\n",
       "    .dataframe thead th {\n",
       "        text-align: right;\n",
       "    }\n",
       "</style>\n",
       "<table border=\"1\" class=\"dataframe\">\n",
       "  <thead>\n",
       "    <tr style=\"text-align: right;\">\n",
       "      <th></th>\n",
       "      <th>place_id</th>\n",
       "      <th>stars</th>\n",
       "      <th>time</th>\n",
       "      <th>text</th>\n",
       "      <th>clean_text</th>\n",
       "      <th>sentences</th>\n",
       "      <th>lemm_sentences</th>\n",
       "      <th>real_time</th>\n",
       "    </tr>\n",
       "  </thead>\n",
       "  <tbody>\n",
       "    <tr>\n",
       "      <th>277</th>\n",
       "      <td>club_espaniol</td>\n",
       "      <td>4</td>\n",
       "      <td></td>\n",
       "      <td>Excelente lugar amplio parqueo</td>\n",
       "      <td>excelente lugar amplio parqueo</td>\n",
       "      <td>[excelente lugar amplio parqueo]</td>\n",
       "      <td>[excelente lugar amplio parqueo]</td>\n",
       "      <td>NaN</td>\n",
       "    </tr>\n",
       "    <tr>\n",
       "      <th>319</th>\n",
       "      <td>club_espaniol</td>\n",
       "      <td>5</td>\n",
       "      <td>2 semanas atras</td>\n",
       "      <td>Excelente lugar</td>\n",
       "      <td>excelente lugar</td>\n",
       "      <td>[excelente lugar]</td>\n",
       "      <td>[excelente lugar]</td>\n",
       "      <td>NaN</td>\n",
       "    </tr>\n",
       "    <tr>\n",
       "      <th>1155</th>\n",
       "      <td>club_montania</td>\n",
       "      <td>5</td>\n",
       "      <td></td>\n",
       "      <td>Un lugar muy bonito.</td>\n",
       "      <td>un lugar muy bonito.</td>\n",
       "      <td>[un lugar muy bonito]</td>\n",
       "      <td>[uno lugar mucho bonito]</td>\n",
       "      <td>NaN</td>\n",
       "    </tr>\n",
       "  </tbody>\n",
       "</table>\n",
       "</div>"
      ],
      "text/plain": [
       "           place_id  stars             time                            text  \\\n",
       "277   club_espaniol      4                   Excelente lugar amplio parqueo   \n",
       "319   club_espaniol      5  2 semanas atras                 Excelente lugar   \n",
       "1155  club_montania      5                             Un lugar muy bonito.   \n",
       "\n",
       "                          clean_text                         sentences  \\\n",
       "277   excelente lugar amplio parqueo  [excelente lugar amplio parqueo]   \n",
       "319                  excelente lugar                 [excelente lugar]   \n",
       "1155            un lugar muy bonito.             [un lugar muy bonito]   \n",
       "\n",
       "                        lemm_sentences  real_time  \n",
       "277   [excelente lugar amplio parqueo]        NaN  \n",
       "319                  [excelente lugar]        NaN  \n",
       "1155          [uno lugar mucho bonito]        NaN  "
      ]
     },
     "execution_count": 298,
     "metadata": {},
     "output_type": "execute_result"
    }
   ],
   "source": [
    "nan_rows = df[df['real_time'].isna()]\n",
    "nan_rows"
   ]
  },
  {
   "cell_type": "code",
   "execution_count": 299,
   "id": "bca8be9b",
   "metadata": {},
   "outputs": [
    {
     "name": "stdout",
     "output_type": "stream",
     "text": [
      "New shape: (2179, 8)\n"
     ]
    }
   ],
   "source": [
    "df = df.dropna(subset=['real_time'])\n",
    "print(\"New shape:\", df.shape)"
   ]
  },
  {
   "cell_type": "markdown",
   "id": "2dee2c8a",
   "metadata": {},
   "source": [
    "### Valor \"stars\""
   ]
  },
  {
   "cell_type": "code",
   "execution_count": 300,
   "id": "66de0723",
   "metadata": {},
   "outputs": [],
   "source": [
    "df['real_stars'] = df['stars'] / 5.0"
   ]
  },
  {
   "cell_type": "markdown",
   "id": "0260c7f7",
   "metadata": {},
   "source": [
    "La normalización de la columna stars mediante facilita comparaciones entre datasets y el uso en modelos que esperan inputs en escala [0,1]. No obstante, se asume que no existen valores atípicos o escalas distintas a la conocida de 5 estrellas."
   ]
  },
  {
   "cell_type": "code",
   "execution_count": 301,
   "id": "d44335d7",
   "metadata": {},
   "outputs": [
    {
     "data": {
      "text/html": [
       "<div>\n",
       "<style scoped>\n",
       "    .dataframe tbody tr th:only-of-type {\n",
       "        vertical-align: middle;\n",
       "    }\n",
       "\n",
       "    .dataframe tbody tr th {\n",
       "        vertical-align: top;\n",
       "    }\n",
       "\n",
       "    .dataframe thead th {\n",
       "        text-align: right;\n",
       "    }\n",
       "</style>\n",
       "<table border=\"1\" class=\"dataframe\">\n",
       "  <thead>\n",
       "    <tr style=\"text-align: right;\">\n",
       "      <th></th>\n",
       "      <th>place_id</th>\n",
       "      <th>stars</th>\n",
       "      <th>time</th>\n",
       "      <th>text</th>\n",
       "      <th>clean_text</th>\n",
       "      <th>sentences</th>\n",
       "      <th>lemm_sentences</th>\n",
       "      <th>real_time</th>\n",
       "      <th>real_stars</th>\n",
       "    </tr>\n",
       "  </thead>\n",
       "  <tbody>\n",
       "  </tbody>\n",
       "</table>\n",
       "</div>"
      ],
      "text/plain": [
       "Empty DataFrame\n",
       "Columns: [place_id, stars, time, text, clean_text, sentences, lemm_sentences, real_time, real_stars]\n",
       "Index: []"
      ]
     },
     "execution_count": 301,
     "metadata": {},
     "output_type": "execute_result"
    }
   ],
   "source": [
    "nan_rows = df[df['real_time'].isna()]\n",
    "nan_rows"
   ]
  },
  {
   "cell_type": "code",
   "execution_count": 302,
   "id": "a0a3173a",
   "metadata": {},
   "outputs": [
    {
     "name": "stdout",
     "output_type": "stream",
     "text": [
      "New shape: (2179, 9)\n"
     ]
    }
   ],
   "source": [
    "df = df.dropna(subset=['real_stars'])\n",
    "print(\"New shape:\", df.shape)"
   ]
  },
  {
   "cell_type": "code",
   "execution_count": 303,
   "id": "944501d6",
   "metadata": {},
   "outputs": [],
   "source": [
    "df = df.drop(\"stars\", axis=1)"
   ]
  },
  {
   "cell_type": "markdown",
   "id": "7c7a44e8",
   "metadata": {},
   "source": [
    "## Resumen"
   ]
  },
  {
   "cell_type": "code",
   "execution_count": 304,
   "id": "52992f47",
   "metadata": {},
   "outputs": [
    {
     "name": "stdout",
     "output_type": "stream",
     "text": [
      "\n",
      "Numerical columns: ['real_time', 'real_stars']\n"
     ]
    }
   ],
   "source": [
    "num_cols = df.select_dtypes(include=['number']).columns\n",
    "print(\"\\nNumerical columns:\", list(num_cols))"
   ]
  },
  {
   "cell_type": "code",
   "execution_count": 305,
   "id": "b4f00d12",
   "metadata": {},
   "outputs": [
    {
     "data": {
      "image/png": "[encoded data removed]",
      "text/plain": [
       "<Figure size 600x300 with 1 Axes>"
      ]
     },
     "metadata": {},
     "output_type": "display_data"
    },
    {
     "data": {
      "image/png": "[encoded data removed]",
      "text/plain": [
       "<Figure size 600x300 with 1 Axes>"
      ]
     },
     "metadata": {},
     "output_type": "display_data"
    }
   ],
   "source": [
    "for col in num_cols:\n",
    "    plt.figure(figsize=(6, 3))\n",
    "    sns.histplot(df[col], kde=True, bins=30)\n",
    "    plt.title(f'Distribution of {col}')\n",
    "    plt.show()"
   ]
  },
  {
   "cell_type": "code",
   "execution_count": 306,
   "id": "dd94d4f4",
   "metadata": {},
   "outputs": [
    {
     "name": "stdout",
     "output_type": "stream",
     "text": [
      "\n",
      "Categorical columns: ['place_id', 'time', 'text', 'clean_text', 'sentences', 'lemm_sentences']\n"
     ]
    }
   ],
   "source": [
    "cat_cols = df.select_dtypes(include=['object', 'bool', 'category']).columns\n",
    "print(\"\\nCategorical columns:\", list(cat_cols))"
   ]
  },
  {
   "cell_type": "code",
   "execution_count": 307,
   "id": "2b57b56c",
   "metadata": {},
   "outputs": [
    {
     "data": {
      "image/png": "[encoded data removed]",
      "text/plain": [
       "<Figure size 600x300 with 1 Axes>"
      ]
     },
     "metadata": {},
     "output_type": "display_data"
    },
    {
     "data": {
      "image/png": "[encoded data removed]",
      "text/plain": [
       "<Figure size 600x300 with 1 Axes>"
      ]
     },
     "metadata": {},
     "output_type": "display_data"
    }
   ],
   "source": [
    "vals = ['clean_text', 'sentences']\n",
    "\n",
    "for val in vals:\n",
    "    df[val+'_length'] = df[val].astype(str).apply(len)\n",
    "    plt.figure(figsize=(6, 3))\n",
    "    sns.histplot(df[val+'_length'], bins=30, kde=True)\n",
    "    plt.title('Distribution of Review '+val)\n",
    "    plt.xlabel('Number of Characters')\n",
    "    plt.show()"
   ]
  },
  {
   "cell_type": "code",
   "execution_count": 308,
   "id": "8632984f",
   "metadata": {},
   "outputs": [],
   "source": [
    "conteo = df[\"place_id\"].value_counts().reset_index()\n",
    "conteo.columns = ['place', 'count']"
   ]
  },
  {
   "cell_type": "code",
   "execution_count": 309,
   "id": "9cf082e3",
   "metadata": {},
   "outputs": [
    {
     "data": {
      "image/png": "[encoded data removed]",
      "text/plain": [
       "<Figure size 600x300 with 1 Axes>"
      ]
     },
     "metadata": {},
     "output_type": "display_data"
    }
   ],
   "source": [
    "plt.figure(figsize=(6, 3))\n",
    "colors = sns.color_palette(\"Blues\", len(conteo)) [::-1]\n",
    "ax = sns.barplot(data=conteo, x='place', y='count', palette=colors)\n",
    "ax.set_ylabel('count')\n",
    "ax.set_xlabel('place')\n",
    "ax.set_xticklabels(ax.get_xticklabels(), rotation=40, ha='right')\n",
    "ax.set_title('Count per Place')\n",
    "plt.show()"
   ]
  },
  {
   "cell_type": "markdown",
   "id": "5018b35c",
   "metadata": {},
   "source": [
    "## Guardado"
   ]
  },
  {
   "cell_type": "code",
   "execution_count": 310,
   "id": "6a25d5f2",
   "metadata": {},
   "outputs": [],
   "source": [
    "new_df = df[['place_id', 'real_time', 'real_stars', 'sentences', 'lemm_sentences']].reset_index(drop=True)\n",
    "new_df.rename(columns={'place_id': 'place', 'real_time': 'year', 'real_stars': 'stars'}, inplace=True)"
   ]
  },
  {
   "cell_type": "code",
   "execution_count": 311,
   "id": "9ae2655c",
   "metadata": {},
   "outputs": [
    {
     "data": {
      "text/html": [
       "<div>\n",
       "<style scoped>\n",
       "    .dataframe tbody tr th:only-of-type {\n",
       "        vertical-align: middle;\n",
       "    }\n",
       "\n",
       "    .dataframe tbody tr th {\n",
       "        vertical-align: top;\n",
       "    }\n",
       "\n",
       "    .dataframe thead th {\n",
       "        text-align: right;\n",
       "    }\n",
       "</style>\n",
       "<table border=\"1\" class=\"dataframe\">\n",
       "  <thead>\n",
       "    <tr style=\"text-align: right;\">\n",
       "      <th></th>\n",
       "      <th>place</th>\n",
       "      <th>year</th>\n",
       "      <th>stars</th>\n",
       "      <th>sentences</th>\n",
       "      <th>lemm_sentences</th>\n",
       "    </tr>\n",
       "  </thead>\n",
       "  <tbody>\n",
       "    <tr>\n",
       "      <th>0</th>\n",
       "      <td>club_majadas</td>\n",
       "      <td>2025.0</td>\n",
       "      <td>1.0</td>\n",
       "      <td>[costo beneficio correcto, limpio y comodo de ...</td>\n",
       "      <td>[costo beneficio correcto, limpio y comodo de ...</td>\n",
       "    </tr>\n",
       "    <tr>\n",
       "      <th>1</th>\n",
       "      <td>club_majadas</td>\n",
       "      <td>2020.0</td>\n",
       "      <td>1.0</td>\n",
       "      <td>[buena atencion del personal, muy higienico, r...</td>\n",
       "      <td>[buen atencion del personal, mucho higienico, ...</td>\n",
       "    </tr>\n",
       "    <tr>\n",
       "      <th>2</th>\n",
       "      <td>club_majadas</td>\n",
       "      <td>2024.0</td>\n",
       "      <td>1.0</td>\n",
       "      <td>[me encanto el lugar super recomendado la amab...</td>\n",
       "      <td>[yo encantar el lugar super recomendado el ama...</td>\n",
       "    </tr>\n",
       "    <tr>\n",
       "      <th>3</th>\n",
       "      <td>club_majadas</td>\n",
       "      <td>2017.0</td>\n",
       "      <td>1.0</td>\n",
       "      <td>[un lugar para ejercitarse en el gimnasio clas...</td>\n",
       "      <td>[uno lugar para ejercitar él en el gimnasio cl...</td>\n",
       "    </tr>\n",
       "    <tr>\n",
       "      <th>4</th>\n",
       "      <td>club_majadas</td>\n",
       "      <td>2022.0</td>\n",
       "      <td>1.0</td>\n",
       "      <td>[un bello lugar para respirar aire puro nadar ...</td>\n",
       "      <td>[uno bello lugar para respirar aire puro nadar...</td>\n",
       "    </tr>\n",
       "    <tr>\n",
       "      <th>...</th>\n",
       "      <td>...</td>\n",
       "      <td>...</td>\n",
       "      <td>...</td>\n",
       "      <td>...</td>\n",
       "      <td>...</td>\n",
       "    </tr>\n",
       "    <tr>\n",
       "      <th>2174</th>\n",
       "      <td>club_guatemala</td>\n",
       "      <td>2024.0</td>\n",
       "      <td>1.0</td>\n",
       "      <td>[excelente]</td>\n",
       "      <td>[excelente]</td>\n",
       "    </tr>\n",
       "    <tr>\n",
       "      <th>2175</th>\n",
       "      <td>club_guatemala</td>\n",
       "      <td>2023.0</td>\n",
       "      <td>1.0</td>\n",
       "      <td>[bantab]</td>\n",
       "      <td>[bantab]</td>\n",
       "    </tr>\n",
       "    <tr>\n",
       "      <th>2176</th>\n",
       "      <td>club_guatemala</td>\n",
       "      <td>2020.0</td>\n",
       "      <td>1.0</td>\n",
       "      <td>[desde]</td>\n",
       "      <td>[desde]</td>\n",
       "    </tr>\n",
       "    <tr>\n",
       "      <th>2177</th>\n",
       "      <td>club_guatemala</td>\n",
       "      <td>2018.0</td>\n",
       "      <td>1.0</td>\n",
       "      <td>[cicatrizacion]</td>\n",
       "      <td>[cicatrizacion]</td>\n",
       "    </tr>\n",
       "    <tr>\n",
       "      <th>2178</th>\n",
       "      <td>club_guatemala</td>\n",
       "      <td>2023.0</td>\n",
       "      <td>1.0</td>\n",
       "      <td>[super]</td>\n",
       "      <td>[super]</td>\n",
       "    </tr>\n",
       "  </tbody>\n",
       "</table>\n",
       "<p>2179 rows × 5 columns</p>\n",
       "</div>"
      ],
      "text/plain": [
       "               place    year  stars  \\\n",
       "0       club_majadas  2025.0    1.0   \n",
       "1       club_majadas  2020.0    1.0   \n",
       "2       club_majadas  2024.0    1.0   \n",
       "3       club_majadas  2017.0    1.0   \n",
       "4       club_majadas  2022.0    1.0   \n",
       "...              ...     ...    ...   \n",
       "2174  club_guatemala  2024.0    1.0   \n",
       "2175  club_guatemala  2023.0    1.0   \n",
       "2176  club_guatemala  2020.0    1.0   \n",
       "2177  club_guatemala  2018.0    1.0   \n",
       "2178  club_guatemala  2023.0    1.0   \n",
       "\n",
       "                                              sentences  \\\n",
       "0     [costo beneficio correcto, limpio y comodo de ...   \n",
       "1     [buena atencion del personal, muy higienico, r...   \n",
       "2     [me encanto el lugar super recomendado la amab...   \n",
       "3     [un lugar para ejercitarse en el gimnasio clas...   \n",
       "4     [un bello lugar para respirar aire puro nadar ...   \n",
       "...                                                 ...   \n",
       "2174                                        [excelente]   \n",
       "2175                                           [bantab]   \n",
       "2176                                            [desde]   \n",
       "2177                                    [cicatrizacion]   \n",
       "2178                                            [super]   \n",
       "\n",
       "                                         lemm_sentences  \n",
       "0     [costo beneficio correcto, limpio y comodo de ...  \n",
       "1     [buen atencion del personal, mucho higienico, ...  \n",
       "2     [yo encantar el lugar super recomendado el ama...  \n",
       "3     [uno lugar para ejercitar él en el gimnasio cl...  \n",
       "4     [uno bello lugar para respirar aire puro nadar...  \n",
       "...                                                 ...  \n",
       "2174                                        [excelente]  \n",
       "2175                                           [bantab]  \n",
       "2176                                            [desde]  \n",
       "2177                                    [cicatrizacion]  \n",
       "2178                                            [super]  \n",
       "\n",
       "[2179 rows x 5 columns]"
      ]
     },
     "execution_count": 311,
     "metadata": {},
     "output_type": "execute_result"
    }
   ],
   "source": [
    "new_df"
   ]
  },
  {
   "cell_type": "code",
   "execution_count": 312,
   "id": "0a1c7ebb",
   "metadata": {},
   "outputs": [],
   "source": [
    "new_df.to_csv('../data/processed/reviews.csv', index=False)"
   ]
  }
 ],
 "metadata": {
  "kernelspec": {
   "display_name": ".venv",
   "language": "python",
   "name": "python3"
  },
  "language_info": {
   "codemirror_mode": {
    "name": "ipython",
    "version": 3
   },
   "file_extension": ".py",
   "mimetype": "text/x-python",
   "name": "python",
   "nbconvert_exporter": "python",
   "pygments_lexer": "ipython3",
   "version": "3.12.4"
  }
 },
 "nbformat": 4,
 "nbformat_minor": 5
}
